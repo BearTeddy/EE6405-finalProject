{
 "cells": [
  {
   "cell_type": "markdown",
   "metadata": {},
   "source": [
    "# Final Project: Toxic Chat Classification Using NLP\n",
    "\n",
    "## Introduction\n",
    "In this project, we will be using Natural Language Processing (NLP) to classify toxic comments in a chat. The dataset we will be using is the \n",
    "1. ) [Toxic Comment Classification Challenge](https://www.kaggle.com/c/jigsaw-toxic-comment-classification-challenge) dataset from Kaggle. The dataset consists of comments from Wikipedia’s talk page edits. The comments are labeled as toxic, severe toxic, obscene, threat, insult, and identity hate. The goal of this project is to build a model that can classify the comments into these categories.\n",
    "2. ) [Sensai] is a toxic chat dataset consists of live chats from Virtual YouTubers' live streams\n",
    "   curl -L -o ~/Downloads/archive.zip\\ https://www.kaggle.com/api/v1/datasets/download/uetchy/sensai\n",
    "3. ) [The Toxicity Dataset] This repo contains 500 toxic and 500 non-toxic comments from a variety of popular social media platforms. https://github.com/surge-ai/toxicity\n",
    "\n",
    "## Members - Cluster D Table 25\n",
    "1. ) HTUN HTET MYAT\n",
    "2. )\n",
    "3. )\n",
    "4. )\n",
    "5. )"
   ]
  },
  {
   "cell_type": "code",
   "execution_count": 2,
   "metadata": {},
   "outputs": [
    {
     "name": "stderr",
     "output_type": "stream",
     "text": [
      "/Users/blake/NTU/EE6405_NLP/codeenv/nlp/lib/python3.12/site-packages/tqdm/auto.py:21: TqdmWarning: IProgress not found. Please update jupyter and ipywidgets. See https://ipywidgets.readthedocs.io/en/stable/user_install.html\n",
      "  from .autonotebook import tqdm as notebook_tqdm\n",
      "[nltk_data] Downloading package wordnet to /Users/blake/nltk_data...\n",
      "[nltk_data]   Package wordnet is already up-to-date!\n",
      "[nltk_data] Downloading package stopwords to /Users/blake/nltk_data...\n",
      "[nltk_data]   Package stopwords is already up-to-date!\n",
      "[nltk_data] Downloading package averaged_perceptron_tagger to\n",
      "[nltk_data]     /Users/blake/nltk_data...\n",
      "[nltk_data]   Package averaged_perceptron_tagger is already up-to-\n",
      "[nltk_data]       date!\n"
     ]
    }
   ],
   "source": [
    "# Import Statements \n",
    "import os\n",
    "import re\n",
    "import requests\n",
    "import nltk\n",
    "import string\n",
    "import glob\n",
    "import numpy as np\n",
    "import pandas as pd\n",
    "import matplotlib.pyplot as plt\n",
    "import tensorflow as tf\n",
    "from sklearn.model_selection import train_test_split \n",
    "from sklearn.metrics import precision_score, recall_score, f1_score\n",
    "from sklearn.feature_extraction.text import TfidfVectorizer\n",
    "from transformers import AutoTokenizer, AutoModelForSeq2SeqLM\n",
    "from datasets import load_dataset, Dataset\n",
    "# import sentencepiece\n",
    "from nltk.corpus import stopwords\n",
    "from nltk.tokenize import word_tokenize \n",
    "from nltk.corpus import words\n",
    "from nltk.stem import WordNetLemmatizer, PorterStemmer\n",
    "from nltk.stem.snowball import SnowballStemmer\n",
    "# from symspellpy import SymSpell, Verbosity\n",
    "nltk.download('wordnet')\n",
    "nltk.download('stopwords')\n",
    "from nltk.stem import WordNetLemmatizer\n",
    "from nltk.tokenize import word_tokenize\n",
    "nltk.download('averaged_perceptron_tagger')\n",
    "lemmatizer= WordNetLemmatizer()\n",
    "from nltk.corpus import wordnet\n",
    "\n",
    "from keras import models,layers"
   ]
  },
  {
   "cell_type": "code",
   "execution_count": 2,
   "metadata": {},
   "outputs": [
    {
     "name": "stdout",
     "output_type": "stream",
     "text": [
      "\n",
      "Devices:  [PhysicalDevice(name='/physical_device:CPU:0', device_type='CPU')]\n",
      "No GPU detected.\n"
     ]
    }
   ],
   "source": [
    "import tensorflow as tf\n",
    "# List physical devices\n",
    "devices = tf.config.list_physical_devices()\n",
    "print(\"\\nDevices: \", devices)\n",
    "\n",
    "# List GPUs\n",
    "gpus = tf.config.list_physical_devices('GPU')\n",
    "if gpus:\n",
    "    details = tf.config.experimental.get_device_details(gpus[0])\n",
    "    print(\"GPU details: \", details)\n",
    "else:\n",
    "    print(\"No GPU detected.\")"
   ]
  },
  {
   "cell_type": "code",
   "execution_count": 3,
   "metadata": {},
   "outputs": [],
   "source": [
    "# Default Functions to clean the NLP Dataset, remove stopwords, lemmatize, and stem the words\n",
    "def pos_tagger(nltk_tag):\n",
    "    if nltk_tag.startswith('J'):\n",
    "        return wordnet.ADJ\n",
    "    elif nltk_tag.startswith('V'):\n",
    "        return wordnet.VERB\n",
    "    elif nltk_tag.startswith('N'):\n",
    "        return wordnet.NOUN\n",
    "    elif nltk_tag.startswith('R'):\n",
    "        return wordnet.ADV\n",
    "    else:         \n",
    "        return None\n",
    "    \n",
    "def tagged_lemma(string):\n",
    "    \n",
    "    pos_tagged = nltk.pos_tag(nltk.word_tokenize(string))\n",
    "\n",
    "    wordnet_tagged = list(map(lambda x: (x[0], pos_tagger(x[1])), pos_tagged))\n",
    "\n",
    "    lemmatized_sentence = []\n",
    "\n",
    "    for word, tag in wordnet_tagged:\n",
    "        if tag is None:\n",
    "            lemmatized_sentence.append(word)\n",
    "        else:       \n",
    "            lemmatized_sentence.append(lemmatizer.lemmatize(word, tag))\n",
    "    lemmatized_sentence = \" \".join(lemmatized_sentence)\n",
    "    return lemmatized_sentence\n",
    "\n",
    "\n",
    "def clean_string(text, stem=\"None\"):\n",
    "\n",
    "    # Final String to return\n",
    "    final_string = \"\"\n",
    "\n",
    "    # Make the text to be lower case\n",
    "    text = text.lower()\n",
    "\n",
    "    # Remove line breaks\n",
    "    text = re.sub(r'\\n', ' ', text)\n",
    "\n",
    "    # Remove punctuations\n",
    "    translator = str.maketrans('', '', string.punctuation)\n",
    "    text = text.translate(translator)\n",
    "\n",
    "    # Remove stop words\n",
    "    text = text.split()\n",
    "    useless_words = nltk.corpus.stopwords.words(\"english\")\n",
    "    text_filtered = [word for word in text if not word in useless_words]\n",
    "\n",
    "    # Remove numbers\n",
    "    text_filtered = [re.sub(r'\\w*\\d\\w*', '', w) for w in text_filtered]\n",
    "\n",
    "    # Stem or Lemmatize\n",
    "    if stem == 'Stem':\n",
    "        stemmer = PorterStemmer() \n",
    "        text_stemmed = [stemmer.stem(y) for y in text_filtered]\n",
    "    elif stem == 'Lem':\n",
    "        lem = WordNetLemmatizer()\n",
    "        text_stemmed = [lem.lemmatize(y) for y in text_filtered]\n",
    "    else:\n",
    "        text_stemmed = text_filtered\n",
    "\n",
    "    final_string = ' '.join(text_stemmed)\n",
    "\n",
    "    return final_string"
   ]
  },
  {
   "cell_type": "code",
   "execution_count": 4,
   "metadata": {},
   "outputs": [
    {
     "name": "stdout",
     "output_type": "stream",
     "text": [
      "Index(['id', 'comment_text', 'toxic', 'severe_toxic', 'obscene', 'threat',\n",
      "       'insult', 'identity_hate'],\n",
      "      dtype='object')\n",
      "Index(['body', 'label'], dtype='object')\n",
      "Index(['text', 'is_toxic'], dtype='object')\n"
     ]
    }
   ],
   "source": [
    "# Start with Cleaning the Data of Kaggle Toxic Comment Dataset\n",
    "\n",
    "df_kaggle = pd.read_csv('./data/kaggle-toxic-comment-challange/kaggle_train.csv')\n",
    "df_sensai = pd.concat([pd.read_parquet(x) for x in glob.glob('./data/sensai/*.parquet')], ignore_index=True)\n",
    "df_surge = pd.read_csv('./data/surge-ai-toxicity-repo/toxicity_en.csv')\n",
    "\n",
    "## Pretty print alll the dataframes columns\n",
    "print(df_kaggle.columns)\n",
    "print(df_sensai.columns)\n",
    "print(df_surge.columns)\n"
   ]
  },
  {
   "cell_type": "code",
   "execution_count": 5,
   "metadata": {},
   "outputs": [],
   "source": [
    "#Combine the toxics labels to simply toxic to combine with other datasets\n",
    "df_kaggle['toxic'] = df_kaggle[['toxic', 'severe_toxic', 'obscene', 'threat', 'insult', 'identity_hate']].max(axis=1)\n",
    "#Drop the other columns\n",
    "df_kaggle = df_kaggle.drop(columns=['severe_toxic', 'obscene', 'threat', 'insult', 'identity_hate'])"
   ]
  },
  {
   "cell_type": "code",
   "execution_count": 6,
   "metadata": {},
   "outputs": [],
   "source": [
    "def remove_duplicates(df, text_column):\n",
    "    df_cleaned = df.drop_duplicates(subset=[text_column], keep='first').reset_index(drop=True)\n",
    "    return df_cleaned\n",
    "\n",
    "\n",
    "df_kaggle_cleaned = remove_duplicates(df_kaggle, 'comment_text')\n",
    "df_sensai_cleaned = remove_duplicates(df_sensai, 'body')\n",
    "df_surge_cleaned = remove_duplicates(df_surge, 'text')\n"
   ]
  },
  {
   "cell_type": "code",
   "execution_count": 7,
   "metadata": {},
   "outputs": [
    {
     "name": "stdout",
     "output_type": "stream",
     "text": [
      "Index(['id', 'comments', 'label'], dtype='object')\n",
      "Index(['comments', 'label'], dtype='object')\n",
      "Index(['comments', 'label'], dtype='object')\n"
     ]
    }
   ],
   "source": [
    "df_kaggle_cleaned = df_kaggle_cleaned.rename(columns={'comment_text':'comments','toxic':'label'})\n",
    "df_sensai_cleaned = df_sensai_cleaned.rename(columns={'body':'comments','label':'label'})\n",
    "df_surge_cleaned = df_surge_cleaned.rename(columns={'text':'comments','is_toxic':'label'})\n",
    "print(df_kaggle_cleaned.columns)\n",
    "print(df_sensai_cleaned.columns)\n",
    "print(df_surge_cleaned.columns)"
   ]
  },
  {
   "cell_type": "code",
   "execution_count": 8,
   "metadata": {},
   "outputs": [],
   "source": [
    "# merge\n",
    "df_combined = pd.concat([df_kaggle_cleaned[['comments','label']], \n",
    "                         df_sensai_cleaned[['comments','label']], \n",
    "                         df_surge_cleaned[['comments','label']]], \n",
    "                         ignore_index=True)\n",
    "df_combined = df_combined.dropna()\n",
    "df_combined = remove_duplicates(df_combined, 'comments')\n",
    "df_combined['text_cleaned'] = df_combined['comments'].apply(lambda x: clean_string(x, stem=\"Lem\"))\n",
    "\n",
    "df_combined.to_csv('./data/combined_toxicity_data_cleaned.csv', index=False)"
   ]
  },
  {
   "cell_type": "code",
   "execution_count": 20,
   "metadata": {},
   "outputs": [],
   "source": [
    "#Skipp all to read the cleaned data\n",
    "df_combined = pd.read_csv('./data/combined_toxicity_data_cleaned.csv')"
   ]
  },
  {
   "cell_type": "code",
   "execution_count": 21,
   "metadata": {},
   "outputs": [
    {
     "name": "stdout",
     "output_type": "stream",
     "text": [
      "['0' '1' 'hidden' 'deleted' 'nonflagged' 'Toxic' 'Not Toxic']\n"
     ]
    }
   ],
   "source": [
    "# Get possible lables values for the dataset\n",
    "print(df_combined['label'].unique())"
   ]
  },
  {
   "cell_type": "code",
   "execution_count": 22,
   "metadata": {},
   "outputs": [
    {
     "name": "stdout",
     "output_type": "stream",
     "text": [
      "Empty DataFrame\n",
      "Columns: [comments, label, text_cleaned]\n",
      "Index: []\n",
      "Empty DataFrame\n",
      "Columns: [comments, label, text_cleaned]\n",
      "Index: []\n",
      "                                                 comments    label  \\\n",
      "159573                                           ero poto  deleted   \n",
      "159575               Hagan spam de pien cuando se rinda 😆  deleted   \n",
      "159577                                        ero poto???  deleted   \n",
      "159592                                               gey?  deleted   \n",
      "159593  HINA MI NOVIA ME DIJO YAMETE KUDASAI QUE SIGNI...  deleted   \n",
      "159629                                                 :v  deleted   \n",
      "159642                    hina conoces mis memes de juan?  deleted   \n",
      "159643                                             🏳️‍🌈🇯🇵  deleted   \n",
      "159645  JESTEM NAPALONY JAK SAM SKURWYSYN🥵🥵🥵🥵🥵🥵🥵🥵🥵🥵🥶🥶🥶...  deleted   \n",
      "159676   sabías de la Idol de akb48 también habla Español  deleted   \n",
      "\n",
      "                                             text_cleaned  \n",
      "159573                                           ero poto  \n",
      "159575               hagan spam de pien cuando se rinda 😆  \n",
      "159577                                           ero poto  \n",
      "159592                                                gey  \n",
      "159593    hina mi novia dijo yamete kudasai que significa  \n",
      "159629                                                  v  \n",
      "159642                       hina conoces mi meme de juan  \n",
      "159643                                             🏳️‍🌈🇯🇵  \n",
      "159645  jestem napalony jak sam skurwysyn🥵🥵🥵🥵🥵🥵🥵🥵🥵🥵🥶🥶🥶...  \n",
      "159676        sabías de la idol de  también habla español  \n",
      "                                 comments       label  \\\n",
      "431841                         メン地下の推しでしょ  nonflagged   \n",
      "431842                        Scary Reine  nonflagged   \n",
      "431843                              掲示板外ｗ  nonflagged   \n",
      "431844                                あれ…  nonflagged   \n",
      "431845                               綺麗！！  nonflagged   \n",
      "431846                                 湧く  nonflagged   \n",
      "431847          デジタルアドバタイジングコンソーシアムもあやしいぜ  nonflagged   \n",
      "431848                              しってるよ  nonflagged   \n",
      "431849  歌枠初めて来ました！凄く綺麗な声ですね！ファンになりました！！！！  nonflagged   \n",
      "431850                      配信待機勢の方お疲れ様です  nonflagged   \n",
      "\n",
      "                             text_cleaned  \n",
      "431841                         メン地下の推しでしょ  \n",
      "431842                        scary reine  \n",
      "431843                              掲示板外ｗ  \n",
      "431844                                あれ…  \n",
      "431845                               綺麗！！  \n",
      "431846                                 湧く  \n",
      "431847          デジタルアドバタイジングコンソーシアムもあやしいぜ  \n",
      "431848                              しってるよ  \n",
      "431849  歌枠初めて来ました！凄く綺麗な声ですね！ファンになりました！！！！  \n",
      "431850                      配信待機勢の方お疲れ様です  \n",
      "                                                  comments  label  \\\n",
      "3668230  Elon Musk is a piece of shit, greedy capitalis...  Toxic   \n",
      "3668231  The senile credit card shrill from Delaware ne...  Toxic   \n",
      "3668232  He does that a lot -- makes everyone look good...  Toxic   \n",
      "3668233                                         F*ck Lizzo  Toxic   \n",
      "3668234  Epstein and trump were best buds!!! Pedophiles...  Toxic   \n",
      "3668235  WHY IN THE HELL\\n Are we sending Biden out to ...  Toxic   \n",
      "3668236  Now we all know this is just another fantasy w...  Toxic   \n",
      "3668237  WE MANAGED TO FIND AN ASSHOLE WHO'S A BIGGER S...  Toxic   \n",
      "3668238  After all the leftist said and did to DT, you ...  Toxic   \n",
      "3668239  This is for all you Crybaby Transpo-People , N...  Toxic   \n",
      "\n",
      "                                              text_cleaned  \n",
      "3668230  elon musk piece shit greedy capitalist exploit...  \n",
      "3668231     senile credit card shrill delaware need resign  \n",
      "3668232  lot make everyone look good himi guess also pr...  \n",
      "3668233                                          fck lizzo  \n",
      "3668234     epstein trump best bud pedophile play together  \n",
      "3668235  hell sending biden world meeting representing ...  \n",
      "3668236  know another fantasy hopeful thinking biden de...  \n",
      "3668237      managed find asshole who bigger scumbag cuomo  \n",
      "3668238     leftist said dt take disgraceful comment shove  \n",
      "3668239  crybaby transpopeople nyc police nyc firefight...  \n",
      "                                                  comments      label  \\\n",
      "3668731                         They’re shallots, actually  Not Toxic   \n",
      "3668732            me thinking in my head: mmm pizzaaaa...  Not Toxic   \n",
      "3668733  I have never seen a dice hammer that is so fuc...  Not Toxic   \n",
      "3668734  Got a question for you guys out there: did rev...  Not Toxic   \n",
      "3668735  This sub’s notorious for it. It might be the m...  Not Toxic   \n",
      "3668736         Are results from grand Swiss not factored?  Not Toxic   \n",
      "3668737  The ekko middle finger makes me giggle like a ...  Not Toxic   \n",
      "3668738  you spin me right round,\\n \\n \\n \\n baby right...  Not Toxic   \n",
      "3668739  G2, MAD, VIT, & RGE all have desirable AD spot...  Not Toxic   \n",
      "3668740  I read this in Joseph’s voice, absolutely gold...  Not Toxic   \n",
      "\n",
      "                                              text_cleaned  \n",
      "3668731                           they’re shallot actually  \n",
      "3668732                         thinking head mmm pizzaaaa  \n",
      "3668733  never seen dice hammer fucking cool definitely...  \n",
      "3668734  got question guy revan always hold hit lightsa...  \n",
      "3668735  sub’s notorious might toxic sub i’ve ever seen...  \n",
      "3668736                        result grand swiss factored  \n",
      "3668737  ekko middle finger make giggle like fucking id...  \n",
      "3668738  spin right round baby right round like record ...  \n",
      "3668739   mad vit rge desirable ad spot open even mad p...  \n",
      "3668740  read joseph’s voice absolutely golden get stic...  \n",
      "                                                 comments   label  \\\n",
      "159571  POR QUE A BATMAN LE DICEN BATOMAN?? PUEDES EXP...  hidden   \n",
      "159572                                                ero  hidden   \n",
      "159574  SI QUIERES UN POCO DE CHISTE AHI ESTA LOBOCHI ...  hidden   \n",
      "159576                                              gaby¡  hidden   \n",
      "159578                                             GABY?4  hidden   \n",
      "159579                                              GABY?  hidden   \n",
      "159580                                                  .  hidden   \n",
      "159581                                                  a  hidden   \n",
      "159582                                               GABY  hidden   \n",
      "159583                                                  ä  hidden   \n",
      "\n",
      "                                             text_cleaned  \n",
      "159571  por que batman le dicen batoman puedes explica...  \n",
      "159572                                                ero  \n",
      "159574  si quieres un poco de chiste ahi esta lobochi 😆 😆  \n",
      "159576                                              gaby¡  \n",
      "159578                                                NaN  \n",
      "159579                                               gaby  \n",
      "159580                                                NaN  \n",
      "159581                                                NaN  \n",
      "159582                                               gaby  \n",
      "159583                                                  ä  \n"
     ]
    }
   ],
   "source": [
    "print(df_combined[df_combined['label'] == 0].head(10))\n",
    "print(df_combined[df_combined['label'] == 1].head(10))\n",
    "print(df_combined[df_combined['label'] == \"deleted\"].head(10))\n",
    "print(df_combined[df_combined['label'] == \"nonflagged\"].head(10))\n",
    "print(df_combined[df_combined['label'] == \"Toxic\"].head(10))\n",
    "print(df_combined[df_combined['label'] == \"Not Toxic\"].head(10))\n",
    "print(df_combined[df_combined['label'] == \"hidden\"].head(10))"
   ]
  },
  {
   "cell_type": "markdown",
   "metadata": {},
   "source": [
    "From here we can see the 0 is not toxic, 1 is toxic, flagged as toxic is toxic, not toxic is not toxic, and can remove the noise deleted and not flagged"
   ]
  },
  {
   "cell_type": "code",
   "execution_count": 23,
   "metadata": {},
   "outputs": [
    {
     "name": "stdout",
     "output_type": "stream",
     "text": [
      "[0 1]\n"
     ]
    },
    {
     "name": "stderr",
     "output_type": "stream",
     "text": [
      "/var/folders/y0/n_4qtv412193d16p33qfv5t40000gn/T/ipykernel_19290/2814163378.py:4: FutureWarning: Downcasting behavior in `replace` is deprecated and will be removed in a future version. To retain the old behavior, explicitly call `result.infer_objects(copy=False)`. To opt-in to the future behavior, set `pd.set_option('future.no_silent_downcasting', True)`\n",
      "  df_combined['label'] = df_combined['label'].replace({'1': 1, '0': 0})\n"
     ]
    }
   ],
   "source": [
    "df_combined = df_combined[~df_combined['label'].isin(['deleted', 'nonflagged','hidden'])]\n",
    "df_combined['label'] = df_combined['label'].replace({'Toxic': 1, 'Not Toxic': 0})\n",
    "# Change rememanats of text and integer datatype to the same String type.\n",
    "df_combined['label'] = df_combined['label'].replace({'1': 1, '0': 0})\n",
    "df_combined.dropna(subset=['text_cleaned'],inplace=True)\n",
    "df_combined.reset_index(drop=True, inplace=True)\n",
    "print(df_combined['label'].unique())"
   ]
  },
  {
   "cell_type": "code",
   "execution_count": 24,
   "metadata": {},
   "outputs": [
    {
     "name": "stdout",
     "output_type": "stream",
     "text": [
      "[0 1]\n"
     ]
    }
   ],
   "source": [
    "print(df_combined['label'].unique())"
   ]
  },
  {
   "cell_type": "code",
   "execution_count": 25,
   "metadata": {},
   "outputs": [
    {
     "name": "stdout",
     "output_type": "stream",
     "text": [
      "label\n",
      "0    143778\n",
      "1     16725\n",
      "Name: count, dtype: int64\n"
     ]
    }
   ],
   "source": [
    "# Find the count of toxic and non-toxic comments\n",
    "print(df_combined['label'].value_counts())"
   ]
  },
  {
   "cell_type": "code",
   "execution_count": 26,
   "metadata": {},
   "outputs": [
    {
     "data": {
      "image/png": "[encoded data removed]",
      "text/plain": [
       "<Figure size 800x600 with 1 Axes>"
      ]
     },
     "metadata": {},
     "output_type": "display_data"
    }
   ],
   "source": [
    "# Count the number of toxic and non-toxic comments\n",
    "label_counts = df_combined['label'].value_counts()\n",
    "\n",
    "# Plot the counts\n",
    "plt.figure(figsize=(8, 6))\n",
    "label_counts.plot(kind='bar', color=['blue', 'red'])\n",
    "plt.title('Count of Toxic and Non-Toxic Comments')\n",
    "plt.xlabel('Label')\n",
    "plt.ylabel('Count')\n",
    "plt.xticks(ticks=[0, 1], labels=['Non-Toxic', 'Toxic'], rotation=0)\n",
    "plt.show()"
   ]
  },
  {
   "cell_type": "code",
   "execution_count": 27,
   "metadata": {},
   "outputs": [],
   "source": [
    "# now we see the distribution of the comments is very skewed . Need to balance the dataset\n",
    "# Split the data into train and test sets"
   ]
  },
  {
   "cell_type": "code",
   "execution_count": 28,
   "metadata": {},
   "outputs": [],
   "source": [
    "# Split the data into train and test sets with stratification to ensure balance\n",
    "\n",
    "training_set , test_set = train_test_split(df_combined, test_size=0.2, stratify=df_combined['label'], random_state=42)"
   ]
  },
  {
   "cell_type": "code",
   "execution_count": 29,
   "metadata": {},
   "outputs": [],
   "source": [
    "# To Create Vectors for Textual Data use the log term frequencey to reduce the weight of common words\n",
    "# ngram to be 3\n",
    "VOCAB_SIZE = 5000\n",
    "encoder = tf.keras.layers.TextVectorization (\n",
    "    max_tokens=VOCAB_SIZE,\n",
    "    output_mode='int',\n",
    "    pad_to_max_tokens=True\n",
    ")\n",
    "encoder.adapt(training_set['text_cleaned'].tolist())"
   ]
  },
  {
   "cell_type": "code",
   "execution_count": 30,
   "metadata": {},
   "outputs": [],
   "source": [
    "lstm = tf.keras.Sequential([\n",
    "    encoder,\n",
    "    tf.keras.layers.Embedding(\n",
    "        input_dim=len(encoder.get_vocabulary()),\n",
    "        output_dim=64,\n",
    "        # Use masking to handle the variable sequence lengths\n",
    "        mask_zero=True),\n",
    "    tf.keras.layers.LSTM(64), #Replacing the simple RNN with a LSTM\n",
    "    tf.keras.layers.Dense(64, activation='relu'),\n",
    "    tf.keras.layers.Dense(1)\n",
    "])\n"
   ]
  },
  {
   "cell_type": "code",
   "execution_count": 31,
   "metadata": {},
   "outputs": [],
   "source": [
    "lstm.compile(loss=tf.keras.losses.BinaryCrossentropy(from_logits=True),\n",
    "              optimizer=tf.keras.optimizers.Adam(learning_rate=1e-4, clipvalue=0.5),\n",
    "              metrics=['accuracy'])\n"
   ]
  },
  {
   "cell_type": "code",
   "execution_count": 32,
   "metadata": {},
   "outputs": [
    {
     "name": "stdout",
     "output_type": "stream",
     "text": [
      "Epoch 1/10\n",
      "\u001b[1m2007/2007\u001b[0m \u001b[32m━━━━━━━━━━━━━━━━━━━━\u001b[0m\u001b[37m\u001b[0m \u001b[1m265s\u001b[0m 132ms/step - accuracy: 0.9060 - loss: 0.3482 - val_accuracy: 0.9479 - val_loss: 0.1454\n",
      "Epoch 2/10\n",
      "\u001b[1m2007/2007\u001b[0m \u001b[32m━━━━━━━━━━━━━━━━━━━━\u001b[0m\u001b[37m\u001b[0m \u001b[1m235s\u001b[0m 117ms/step - accuracy: 0.9562 - loss: 0.1285 - val_accuracy: 0.9609 - val_loss: 0.1136\n",
      "Epoch 3/10\n",
      "\u001b[1m2007/2007\u001b[0m \u001b[32m━━━━━━━━━━━━━━━━━━━━\u001b[0m\u001b[37m\u001b[0m \u001b[1m228s\u001b[0m 114ms/step - accuracy: 0.9608 - loss: 0.1102 - val_accuracy: 0.9542 - val_loss: 0.1263\n",
      "Epoch 4/10\n",
      "\u001b[1m2007/2007\u001b[0m \u001b[32m━━━━━━━━━━━━━━━━━━━━\u001b[0m\u001b[37m\u001b[0m \u001b[1m228s\u001b[0m 114ms/step - accuracy: 0.9623 - loss: 0.1020 - val_accuracy: 0.9599 - val_loss: 0.1132\n",
      "Epoch 5/10\n",
      "\u001b[1m2007/2007\u001b[0m \u001b[32m━━━━━━━━━━━━━━━━━━━━\u001b[0m\u001b[37m\u001b[0m \u001b[1m221s\u001b[0m 110ms/step - accuracy: 0.9646 - loss: 0.0958 - val_accuracy: 0.9682 - val_loss: 0.0963\n",
      "Epoch 6/10\n",
      "\u001b[1m2007/2007\u001b[0m \u001b[32m━━━━━━━━━━━━━━━━━━━━\u001b[0m\u001b[37m\u001b[0m \u001b[1m220s\u001b[0m 110ms/step - accuracy: 0.9637 - loss: 0.0945 - val_accuracy: 0.9516 - val_loss: 0.1189\n",
      "Epoch 7/10\n",
      "\u001b[1m2007/2007\u001b[0m \u001b[32m━━━━━━━━━━━━━━━━━━━━\u001b[0m\u001b[37m\u001b[0m \u001b[1m219s\u001b[0m 109ms/step - accuracy: 0.9636 - loss: 0.0922 - val_accuracy: 0.9661 - val_loss: 0.1118\n",
      "Epoch 8/10\n",
      "\u001b[1m2007/2007\u001b[0m \u001b[32m━━━━━━━━━━━━━━━━━━━━\u001b[0m\u001b[37m\u001b[0m \u001b[1m230s\u001b[0m 115ms/step - accuracy: 0.9632 - loss: 0.0905 - val_accuracy: 0.9599 - val_loss: 0.1196\n",
      "Epoch 9/10\n",
      "\u001b[1m2007/2007\u001b[0m \u001b[32m━━━━━━━━━━━━━━━━━━━━\u001b[0m\u001b[37m\u001b[0m \u001b[1m237s\u001b[0m 118ms/step - accuracy: 0.9647 - loss: 0.0874 - val_accuracy: 0.9500 - val_loss: 0.1379\n",
      "Epoch 10/10\n",
      "\u001b[1m2007/2007\u001b[0m \u001b[32m━━━━━━━━━━━━━━━━━━━━\u001b[0m\u001b[37m\u001b[0m \u001b[1m225s\u001b[0m 112ms/step - accuracy: 0.9657 - loss: 0.0852 - val_accuracy: 0.9604 - val_loss: 0.1429\n"
     ]
    }
   ],
   "source": [
    "historyLSTM = lstm.fit(training_set['text_cleaned'],training_set['label'], epochs=10,\n",
    "                    validation_data=(test_set['text_cleaned'],test_set['label']),\n",
    "                    batch_size=64,\n",
    "                    validation_steps=30)\n",
    "lstm.save('./models/lstm_model.keras')"
   ]
  },
  {
   "cell_type": "code",
   "execution_count": 33,
   "metadata": {},
   "outputs": [
    {
     "name": "stdout",
     "output_type": "stream",
     "text": [
      "Epoch 1/20\n",
      "\u001b[1m1004/1004\u001b[0m \u001b[32m━━━━━━━━━━━━━━━━━━━━\u001b[0m\u001b[37m\u001b[0m \u001b[1m179s\u001b[0m 179ms/step - accuracy: 0.9661 - loss: 0.0816 - val_accuracy: 0.9576 - val_loss: 0.1250\n",
      "Epoch 2/20\n",
      "\u001b[1m1004/1004\u001b[0m \u001b[32m━━━━━━━━━━━━━━━━━━━━\u001b[0m\u001b[37m\u001b[0m \u001b[1m181s\u001b[0m 180ms/step - accuracy: 0.9685 - loss: 0.0788 - val_accuracy: 0.9570 - val_loss: 0.1388\n",
      "Epoch 3/20\n",
      "\u001b[1m1004/1004\u001b[0m \u001b[32m━━━━━━━━━━━━━━━━━━━━\u001b[0m\u001b[37m\u001b[0m \u001b[1m180s\u001b[0m 180ms/step - accuracy: 0.9683 - loss: 0.0774 - val_accuracy: 0.9596 - val_loss: 0.1123\n",
      "Epoch 4/20\n",
      "\u001b[1m1004/1004\u001b[0m \u001b[32m━━━━━━━━━━━━━━━━━━━━\u001b[0m\u001b[37m\u001b[0m \u001b[1m187s\u001b[0m 186ms/step - accuracy: 0.9696 - loss: 0.0745 - val_accuracy: 0.9576 - val_loss: 0.1295\n",
      "Epoch 5/20\n",
      "\u001b[1m1004/1004\u001b[0m \u001b[32m━━━━━━━━━━━━━━━━━━━━\u001b[0m\u001b[37m\u001b[0m \u001b[1m182s\u001b[0m 182ms/step - accuracy: 0.9702 - loss: 0.0746 - val_accuracy: 0.9513 - val_loss: 0.1606\n",
      "Epoch 6/20\n",
      "\u001b[1m1004/1004\u001b[0m \u001b[32m━━━━━━━━━━━━━━━━━━━━\u001b[0m\u001b[37m\u001b[0m \u001b[1m502s\u001b[0m 500ms/step - accuracy: 0.9714 - loss: 0.0724 - val_accuracy: 0.9568 - val_loss: 0.1566\n",
      "Epoch 7/20\n",
      "\u001b[1m1004/1004\u001b[0m \u001b[32m━━━━━━━━━━━━━━━━━━━━\u001b[0m\u001b[37m\u001b[0m \u001b[1m5855s\u001b[0m 6s/step - accuracy: 0.9708 - loss: 0.0708 - val_accuracy: 0.9591 - val_loss: 0.1416\n",
      "Epoch 8/20\n",
      "\u001b[1m1004/1004\u001b[0m \u001b[32m━━━━━━━━━━━━━━━━━━━━\u001b[0m\u001b[37m\u001b[0m \u001b[1m181s\u001b[0m 180ms/step - accuracy: 0.9723 - loss: 0.0685 - val_accuracy: 0.9523 - val_loss: 0.1712\n",
      "Epoch 9/20\n",
      "\u001b[1m1004/1004\u001b[0m \u001b[32m━━━━━━━━━━━━━━━━━━━━\u001b[0m\u001b[37m\u001b[0m \u001b[1m182s\u001b[0m 181ms/step - accuracy: 0.9729 - loss: 0.0683 - val_accuracy: 0.9638 - val_loss: 0.1183\n",
      "Epoch 10/20\n",
      "\u001b[1m   1/1004\u001b[0m \u001b[37m━━━━━━━━━━━━━━━━━━━━\u001b[0m \u001b[1m1:21\u001b[0m 81ms/step - accuracy: 0.9688 - loss: 0.0884"
     ]
    },
    {
     "name": "stderr",
     "output_type": "stream",
     "text": [
      "2024-11-06 22:44:50.809950: W tensorflow/core/framework/local_rendezvous.cc:404] Local rendezvous is aborting with status: OUT_OF_RANGE: End of sequence\n",
      "\t [[{{node IteratorGetNext}}]]\n",
      "/opt/homebrew/Cellar/python@3.12/3.12.5/Frameworks/Python.framework/Versions/3.12/lib/python3.12/contextlib.py:158: UserWarning: Your input ran out of data; interrupting training. Make sure that your dataset or generator can generate at least `steps_per_epoch * epochs` batches. You may need to use the `.repeat()` function when building your dataset.\n",
      "  self.gen.throw(value)\n"
     ]
    },
    {
     "name": "stdout",
     "output_type": "stream",
     "text": [
      "\u001b[1m1004/1004\u001b[0m \u001b[32m━━━━━━━━━━━━━━━━━━━━\u001b[0m\u001b[37m\u001b[0m \u001b[1m180s\u001b[0m 179ms/step - accuracy: 0.9734 - loss: 0.0673 - val_accuracy: 0.9536 - val_loss: 0.1581\n",
      "Epoch 11/20\n",
      "\u001b[1m1004/1004\u001b[0m \u001b[32m━━━━━━━━━━━━━━━━━━━━\u001b[0m\u001b[37m\u001b[0m \u001b[1m186s\u001b[0m 185ms/step - accuracy: 0.9752 - loss: 0.0623 - val_accuracy: 0.9555 - val_loss: 0.1760\n",
      "Epoch 12/20\n",
      "\u001b[1m1004/1004\u001b[0m \u001b[32m━━━━━━━━━━━━━━━━━━━━\u001b[0m\u001b[37m\u001b[0m \u001b[1m183s\u001b[0m 183ms/step - accuracy: 0.9764 - loss: 0.0604 - val_accuracy: 0.9536 - val_loss: 0.1469\n",
      "Epoch 13/20\n",
      "\u001b[1m1004/1004\u001b[0m \u001b[32m━━━━━━━━━━━━━━━━━━━━\u001b[0m\u001b[37m\u001b[0m \u001b[1m182s\u001b[0m 182ms/step - accuracy: 0.9767 - loss: 0.0593 - val_accuracy: 0.9539 - val_loss: 0.1718\n",
      "Epoch 14/20\n",
      "\u001b[1m1004/1004\u001b[0m \u001b[32m━━━━━━━━━━━━━━━━━━━━\u001b[0m\u001b[37m\u001b[0m \u001b[1m181s\u001b[0m 180ms/step - accuracy: 0.9772 - loss: 0.0572 - val_accuracy: 0.9445 - val_loss: 0.2174\n",
      "Epoch 15/20\n",
      "\u001b[1m1004/1004\u001b[0m \u001b[32m━━━━━━━━━━━━━━━━━━━━\u001b[0m\u001b[37m\u001b[0m \u001b[1m182s\u001b[0m 181ms/step - accuracy: 0.9784 - loss: 0.0555 - val_accuracy: 0.9523 - val_loss: 0.2204\n",
      "Epoch 16/20\n",
      "\u001b[1m1004/1004\u001b[0m \u001b[32m━━━━━━━━━━━━━━━━━━━━\u001b[0m\u001b[37m\u001b[0m \u001b[1m190s\u001b[0m 190ms/step - accuracy: 0.9793 - loss: 0.0543 - val_accuracy: 0.9555 - val_loss: 0.1879\n",
      "Epoch 17/20\n",
      "\u001b[1m1004/1004\u001b[0m \u001b[32m━━━━━━━━━━━━━━━━━━━━\u001b[0m\u001b[37m\u001b[0m \u001b[1m183s\u001b[0m 182ms/step - accuracy: 0.9803 - loss: 0.0532 - val_accuracy: 0.9513 - val_loss: 0.2595\n",
      "Epoch 18/20\n",
      "\u001b[1m1004/1004\u001b[0m \u001b[32m━━━━━━━━━━━━━━━━━━━━\u001b[0m\u001b[37m\u001b[0m \u001b[1m182s\u001b[0m 181ms/step - accuracy: 0.9803 - loss: 0.0514 - val_accuracy: 0.9645 - val_loss: 0.1639\n",
      "Epoch 19/20\n"
     ]
    },
    {
     "name": "stderr",
     "output_type": "stream",
     "text": [
      "2024-11-06 23:12:20.160795: W tensorflow/core/framework/local_rendezvous.cc:404] Local rendezvous is aborting with status: OUT_OF_RANGE: End of sequence\n",
      "\t [[{{node IteratorGetNext}}]]\n"
     ]
    },
    {
     "name": "stdout",
     "output_type": "stream",
     "text": [
      "\u001b[1m1004/1004\u001b[0m \u001b[32m━━━━━━━━━━━━━━━━━━━━\u001b[0m\u001b[37m\u001b[0m \u001b[1m181s\u001b[0m 180ms/step - accuracy: 0.9810 - loss: 0.0505 - val_accuracy: 0.9458 - val_loss: 0.2240\n",
      "Epoch 20/20\n",
      "\u001b[1m1004/1004\u001b[0m \u001b[32m━━━━━━━━━━━━━━━━━━━━\u001b[0m\u001b[37m\u001b[0m \u001b[1m182s\u001b[0m 182ms/step - accuracy: 0.9824 - loss: 0.0473 - val_accuracy: 0.9471 - val_loss: 0.2496\n"
     ]
    }
   ],
   "source": [
    "historyLSTM128_20 = lstm.fit(training_set['text_cleaned'],training_set['label'], epochs=20,\n",
    "                    validation_data=(test_set['text_cleaned'],test_set['label']),\n",
    "                    batch_size=128,\n",
    "                    validation_steps=30)\n",
    "# Save the second model (assuming it's the same model trained with different parameters)\n",
    "lstm.save('./models/lstm_model_128_20.keras')"
   ]
  },
  {
   "cell_type": "code",
   "execution_count": 34,
   "metadata": {},
   "outputs": [],
   "source": [
    "from sklearn.model_selection import StratifiedKFold\n",
    "from sklearn.metrics import accuracy_score"
   ]
  },
  {
   "cell_type": "code",
   "execution_count": 35,
   "metadata": {},
   "outputs": [],
   "source": [
    "import matplotlib.pyplot as plt\n",
    "\n",
    "def plot_graphs(history, metric):\n",
    "  plt.plot(history.history[metric])\n",
    "  plt.plot(history.history['val_'+metric], '')\n",
    "  plt.xlabel(\"Epochs\")\n",
    "  plt.ylabel(metric)\n",
    "  plt.legend([metric, 'val_'+metric])"
   ]
  },
  {
   "cell_type": "code",
   "execution_count": 36,
   "metadata": {},
   "outputs": [
    {
     "data": {
      "image/png": "[encoded data removed]",
      "text/plain": [
       "<Figure size 640x480 with 1 Axes>"
      ]
     },
     "metadata": {},
     "output_type": "display_data"
    }
   ],
   "source": [
    "plot_graphs(historyLSTM, \"accuracy\")\n"
   ]
  },
  {
   "cell_type": "code",
   "execution_count": 37,
   "metadata": {},
   "outputs": [
    {
     "data": {
      "image/png": "[encoded data removed]",
      "text/plain": [
       "<Figure size 640x480 with 1 Axes>"
      ]
     },
     "metadata": {},
     "output_type": "display_data"
    }
   ],
   "source": [
    "plot_graphs(historyLSTM128_20, \"accuracy\")"
   ]
  },
  {
   "cell_type": "code",
   "execution_count": 39,
   "metadata": {},
   "outputs": [],
   "source": []
  }
 ],
 "metadata": {
  "kernelspec": {
   "display_name": "nlp",
   "language": "python",
   "name": "python3"
  },
  "language_info": {
   "codemirror_mode": {
    "name": "ipython",
    "version": 3
   },
   "file_extension": ".py",
   "mimetype": "text/x-python",
   "name": "python",
   "nbconvert_exporter": "python",
   "pygments_lexer": "ipython3",
   "version": "3.12.5"
  }
 },
 "nbformat": 4,
 "nbformat_minor": 2
}
